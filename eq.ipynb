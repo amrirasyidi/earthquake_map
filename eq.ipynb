{
 "cells": [
  {
   "cell_type": "code",
   "execution_count": 22,
   "metadata": {},
   "outputs": [],
   "source": [
    "import traceback\n",
    "\n",
    "import requests\n",
    "from bs4 import BeautifulSoup\n",
    "\n",
    "import pandas as pd\n",
    "import geopandas as gpd\n",
    "\n",
    "import matplotlib.pyplot as plt"
   ]
  },
  {
   "cell_type": "code",
   "execution_count": 24,
   "metadata": {},
   "outputs": [
    {
     "name": "stderr",
     "output_type": "stream",
     "text": [
      "Traceback (most recent call last):\n",
      "  File \"C:\\Users\\arasyidi\\AppData\\Local\\Temp\\ipykernel_32732\\653858203.py\", line 2, in <module>\n",
      "    import pygmt\n",
      "  File \"d:\\0_amri_local\\99_personal\\eq_map\\.venv\\Lib\\site-packages\\pygmt\\__init__.py\", line 29, in <module>\n",
      "    with clib.Session() as lib:\n",
      "  File \"d:\\0_amri_local\\99_personal\\eq_map\\.venv\\Lib\\site-packages\\pygmt\\clib\\session.py\", line 210, in __enter__\n",
      "    self.create(\"pygmt-session\")\n",
      "  File \"d:\\0_amri_local\\99_personal\\eq_map\\.venv\\Lib\\site-packages\\pygmt\\clib\\session.py\", line 357, in create\n",
      "    c_create_session = self.get_libgmt_func(\n",
      "                       ^^^^^^^^^^^^^^^^^^^^^\n",
      "  File \"d:\\0_amri_local\\99_personal\\eq_map\\.venv\\Lib\\site-packages\\pygmt\\clib\\session.py\", line 309, in get_libgmt_func\n",
      "    self._libgmt = load_libgmt()\n",
      "                   ^^^^^^^^^^^^^\n",
      "  File \"d:\\0_amri_local\\99_personal\\eq_map\\.venv\\Lib\\site-packages\\pygmt\\clib\\loading.py\", line 59, in load_libgmt\n",
      "    raise GMTCLibNotFoundError(\"\\n\".join(error_msg))\n",
      "pygmt.exceptions.GMTCLibNotFoundError: Error loading GMT shared library at 'gmt.dll'.\n",
      "Could not find module 'gmt.dll' (or one of its dependencies). Try using the full path with constructor syntax.\n",
      "Error loading GMT shared library at 'gmt_w64.dll'.\n",
      "Could not find module 'gmt_w64.dll' (or one of its dependencies). Try using the full path with constructor syntax.\n",
      "Error loading GMT shared library at 'gmt_w32.dll'.\n",
      "Could not find module 'gmt_w32.dll' (or one of its dependencies). Try using the full path with constructor syntax.\n"
     ]
    }
   ],
   "source": [
    "try:\n",
    "    import pygmt\n",
    "except:\n",
    "    traceback.print_exc()"
   ]
  },
  {
   "cell_type": "code",
   "execution_count": 13,
   "metadata": {},
   "outputs": [
    {
     "data": {
      "text/html": [
       "<div>\n",
       "<style scoped>\n",
       "    .dataframe tbody tr th:only-of-type {\n",
       "        vertical-align: middle;\n",
       "    }\n",
       "\n",
       "    .dataframe tbody tr th {\n",
       "        vertical-align: top;\n",
       "    }\n",
       "\n",
       "    .dataframe thead th {\n",
       "        text-align: right;\n",
       "    }\n",
       "</style>\n",
       "<table border=\"1\" class=\"dataframe\">\n",
       "  <thead>\n",
       "    <tr style=\"text-align: right;\">\n",
       "      <th></th>\n",
       "      <th>waktu_gempa</th>\n",
       "      <th>magnitudo</th>\n",
       "      <th>kedalaman</th>\n",
       "      <th>geometry</th>\n",
       "    </tr>\n",
       "  </thead>\n",
       "  <tbody>\n",
       "    <tr>\n",
       "      <th>1</th>\n",
       "      <td>2023-06-05 23:13:24</td>\n",
       "      <td>4.4</td>\n",
       "      <td>11.0</td>\n",
       "      <td>POINT (118.28000 0.82000)</td>\n",
       "    </tr>\n",
       "    <tr>\n",
       "      <th>2</th>\n",
       "      <td>2023-06-05 11:57:47</td>\n",
       "      <td>3.3</td>\n",
       "      <td>10.0</td>\n",
       "      <td>POINT (120.74000 1.23000)</td>\n",
       "    </tr>\n",
       "    <tr>\n",
       "      <th>3</th>\n",
       "      <td>2023-06-04 20:48:39</td>\n",
       "      <td>4.6</td>\n",
       "      <td>10.0</td>\n",
       "      <td>POINT (107.89000 -8.43000)</td>\n",
       "    </tr>\n",
       "  </tbody>\n",
       "</table>\n",
       "</div>"
      ],
      "text/plain": [
       "          waktu_gempa  magnitudo  kedalaman                    geometry\n",
       "1 2023-06-05 23:13:24        4.4       11.0   POINT (118.28000 0.82000)\n",
       "2 2023-06-05 11:57:47        3.3       10.0   POINT (120.74000 1.23000)\n",
       "3 2023-06-04 20:48:39        4.6       10.0  POINT (107.89000 -8.43000)"
      ]
     },
     "execution_count": 13,
     "metadata": {},
     "output_type": "execute_result"
    }
   ],
   "source": [
    "# Send a GET request to the web page\n",
    "url = \"https://www.bmkg.go.id/gempabumi-dirasakan.html\"\n",
    "response = requests.get(url)\n",
    "\n",
    "# Create a BeautifulSoup object to parse the HTML content\n",
    "soup = BeautifulSoup(response.content, 'html.parser')\n",
    "\n",
    "# Find the desired elements on the page\n",
    "table = soup.find('table', {'class': 'table table-hover table-striped'})\n",
    "\n",
    "# Extract the table headers\n",
    "headers = [header.get_text(strip=True) for header in table.find_all('th')]\n",
    "\n",
    "# Extract the table rows\n",
    "rows = table.find_all('tr')\n",
    "data = []\n",
    "for row in rows:\n",
    "    columns = row.find_all('td')\n",
    "    row_data = [column.get_text(strip=True) for column in columns]\n",
    "    data.append(row_data)\n",
    "\n",
    "# Create a pandas DataFrame\n",
    "df = pd.DataFrame(data, columns=headers).iloc[1:,1:]\n",
    "\n",
    "# Convert the \"waktu gempa\" column to datetime format\n",
    "df[\"Waktu Gempa\"] = pd.to_datetime(df[\"Waktu Gempa\"], format=\"%d/%m/%Y%H:%M:%S WIB\")\n",
    "\n",
    "# Convert 'magnitudo' column to float\n",
    "df['Magnitudo'] = pd.to_numeric(df['Magnitudo'], errors='coerce')\n",
    "\n",
    "# Extract numerical part from \"Kedalaman\" column and convert to float\n",
    "df['Kedalaman'] = df['Kedalaman'].str.extract(r'(\\d+)', expand=False).astype(float)\n",
    "\n",
    "# Split the \"Lintang - Bujur\" column into four columns\n",
    "df[['Lintang_Value', 'Lintang_String', 'Bujur_Value', 'Bujur_String']] = df['Lintang - Bujur'].str.split(expand=True)\n",
    "\n",
    "# Create a new column \"Latitude\" based on Lintang_Value and Lintang_String\n",
    "df['Latitude'] = df['Lintang_Value'].astype(float)\n",
    "df.loc[df['Lintang_String'] == 'LS', 'Latitude'] *= -1\n",
    "\n",
    "# Create a new column \"Longitude\" based on Bujur_Value and Bujur_String\n",
    "df['Longitude'] = df['Bujur_Value'].astype(float)\n",
    "df.loc[df['Bujur_String'] == 'BB', 'Longitude'] *= -1\n",
    "\n",
    "# Drop the original \"Lintang - Bujur\" column\n",
    "df.drop(['Lintang - Bujur', 'Lintang_Value', 'Lintang_String', 'Bujur_Value', 'Bujur_String', 'Dirasakan (Skala MMI)'], axis=1, inplace=True)\n",
    "\n",
    "# Create a GeoDataFrame with Longitude and Latitude as the geometry\n",
    "geometry = gpd.points_from_xy(df['Longitude'], df['Latitude'])\n",
    "gdf = gpd.GeoDataFrame(df, geometry=geometry)\n",
    "\n",
    "gdf = gdf.rename(columns = {_:_.lower().replace(\" \",\"_\") for _ in gdf.columns})\n",
    "gdf.drop(['longitude', 'latitude'], axis=1, inplace=True)\n",
    "\n",
    "gdf.head(3)"
   ]
  },
  {
   "cell_type": "code",
   "execution_count": 15,
   "metadata": {},
   "outputs": [
    {
     "data": {
      "text/plain": [
       "<Axes: >"
      ]
     },
     "execution_count": 15,
     "metadata": {},
     "output_type": "execute_result"
    },
    {
     "data": {
      "image/png": "[encoded data removed]",
      "text/plain": [
       "<Figure size 1000x1000 with 1 Axes>"
      ]
     },
     "metadata": {},
     "output_type": "display_data"
    }
   ],
   "source": [
    "# Plot the GeoDataFrame with a basemap\n",
    "fig, ax = plt.subplots(figsize=(10, 10))\n",
    "\n",
    "gdf.plot(ax=ax, markersize=gdf['magnitudo'], c=gdf['kedalaman'], cmap='cool', alpha=0.7)"
   ]
  },
  {
   "cell_type": "code",
   "execution_count": null,
   "metadata": {},
   "outputs": [],
   "source": []
  }
 ],
 "metadata": {
  "kernelspec": {
   "display_name": ".venv",
   "language": "python",
   "name": "python3"
  },
  "language_info": {
   "codemirror_mode": {
    "name": "ipython",
    "version": 3
   },
   "file_extension": ".py",
   "mimetype": "text/x-python",
   "name": "python",
   "nbconvert_exporter": "python",
   "pygments_lexer": "ipython3",
   "version": "3.11.2"
  },
  "orig_nbformat": 4
 },
 "nbformat": 4,
 "nbformat_minor": 2
}
